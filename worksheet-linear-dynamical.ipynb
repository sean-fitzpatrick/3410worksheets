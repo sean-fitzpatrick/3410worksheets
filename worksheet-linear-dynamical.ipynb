{
 "cells": [
  {
   "cell_type": "markdown",
   "id": "fbff74a7",
   "metadata": {},
   "source": [
    "# Worksheet: linear dynamical systems\n",
    "\n",
    "$\\newcommand{\\spn}{\\operatorname{span}}\n",
    "\\newcommand{\\bbm}{\\begin{bmatrix}}\n",
    "\\newcommand{\\ebm}{\\end{bmatrix}}\n",
    "\\newcommand{\\R}{\\mathbb{R}}\n",
    "\\newcommand{\\im}{\\operatorname{im}}\n",
    "\\newcommand{\\nll}{\\operatorname{null}}\n",
    "\\newcommand{\\csp}{\\operatorname{col}}\n",
    "\\newcommand{\\rank}{\\operatorname{rank}}\n",
    "\\newcommand{\\diag}{\\operatorname{diag}}\n",
    "\\newcommand{\\tr}{\\operatorname{tr}}\n",
    "\\newcommand{\\dotp}{\\!\\boldsymbol{\\cdot}\\!}\n",
    "\\newcommand{\\len}[1]{\\lVert #1\\rVert}\n",
    "\\newcommand{\\abs}[1]{\\lvert #1\\rvert}\n",
    "\\newcommand{\\proj}[2]{\\operatorname{proj}_{#1}{#2}}\n",
    "\\newcommand{\\bz}{\\overline{z}}\n",
    "\\newcommand{\\zz}{\\mathbf{z}}\n",
    "\\newcommand{\\uu}{\\mathbf{u}}\n",
    "\\newcommand{\\vv}{\\mathbf{v}}\n",
    "\\newcommand{\\ww}{\\mathbf{w}}\n",
    "\\newcommand{\\xx}{\\mathbf{x}}\n",
    "\\newcommand{\\yy}{\\mathbf{y}}\n",
    "\\newcommand{\\zer}{\\mathbf{0}}\n",
    "\\newcommand{\\vecq}{\\mathbf{q}}\n",
    "\\newcommand{\\vecp}{\\mathbf{p}}\n",
    "\\newcommand{\\vece}{\\mathbf{e}}\n",
    "$\n",
    "      \n",
    "Suppose we have a sequence $(x_n)$ defined by a linear recurrence of length $k$,\n",
    "as in the [worksheet on linear recurrences](https://opentext.uleth.ca/Math3410/worksheet-recurrence.html):\n",
    "$$\n",
    "  x_{n+k} = a_0x_k + a_1x_{k+1}+\\cdots + a_{k-1}x_{n-k+1}.\n",
    "$$\n",
    "\n",
    "To determine the long term evolution of the system, we would like to be able to compute\n",
    "$$\n",
    "\\mathbf{v}_n  = A^n \\mathbf{v}_0\n",
    "$$\n",
    "without first finding all the intermediate states,\n",
    "so this is a situation where we would like to be able to efficiently compute powers of a matrix.\n",
    "Fortunately, we know how to do this when $A$ is diagonalizable:\n",
    "$A^n = PD^nP^{-1}$, where $D$ is a diagonal matrix whose entries are the eigenvalues of $A$,\n",
    "and $P$ is the matrix of corresponding eigenvectors of $A$."
   ]
  },
  {
   "cell_type": "markdown",
   "id": "67e28322",
   "metadata": {},
   "source": [
    "## 1.\n",
    "Consider a recurrence of length 2, of the form\n",
    "$$\n",
    "x_{k+2} = ax_k+bx_{k+1}.\n",
    "$$\n",
    "\n",
    "(a) According to [worksheet on linear recurrences](https://opentext.uleth.ca/Math3410/worksheet-recurrence.html), what is the polynomial associated to this recurrence?"
   ]
  },
  {
   "cell_type": "markdown",
   "id": "660001ec",
   "metadata": {},
   "source": [
    "**Double-click to edit** and enter your answer for part (a)."
   ]
  },
  {
   "cell_type": "markdown",
   "id": "f398e796",
   "metadata": {},
   "source": [
    "(b) Let $\\mathbf{v}_k = \\begin{bmatrix}x_k\\\\x_{k+1}\\end{bmatrix}$, for each $k\\geq 0$,\n",
    "and let $A=\\begin{bmatrix}0& 1\\\\a & b\\end{bmatrix}$.\n",
    "Show that $\\mathbf{v}_{k+1}=A\\mathbf{v}_k, \\text{ for each } k\\geq 0$."
   ]
  },
  {
   "cell_type": "markdown",
   "id": "6c9398c1",
   "metadata": {},
   "source": [
    "**Double-click to edit** and enter your answer for part (b)."
   ]
  },
  {
   "cell_type": "markdown",
   "id": "d31057fb",
   "metadata": {},
   "source": [
    "(c) Compute the characteristic polynomial of $A$. What do you observe?"
   ]
  },
  {
   "cell_type": "code",
   "execution_count": null,
   "id": "d12e9f75",
   "metadata": {},
   "outputs": [],
   "source": []
  },
  {
   "cell_type": "markdown",
   "id": "7aa2af18",
   "metadata": {},
   "source": [
    "**Double-click to edit** and enter your answer for part (c)."
   ]
  },
  {
   "cell_type": "markdown",
   "id": "cb5b5795",
   "metadata": {},
   "source": [
    "## 2.\n",
    "For a recurrence of length 3, given by\n",
    "$$\n",
    "x_{k+3} = ax_k+bx_{k+1}+cx_{k+2}:\n",
    "$$\n",
    "\n",
    "(a) Determine a matrix $A$ such that $\\mathbf{v}_{k+1} = A\\mathbf{v}_k$, where $\\mathbf{v}_k = \\begin{bmatrix}x_k\\\\x_{k+1}\\\\x_{k+2}\\end{bmatrix}$."
   ]
  },
  {
   "cell_type": "markdown",
   "id": "b1fff489",
   "metadata": {},
   "source": [
    "**Double-click to edit** and enter your answer for part (a)."
   ]
  },
  {
   "cell_type": "markdown",
   "id": "452e1ba5",
   "metadata": {},
   "source": [
    "(b) Compute the characteristic polynomial of <m>A</m>,\n",
    "and compare it to the associated polynomial of the recurrence."
   ]
  },
  {
   "cell_type": "code",
   "execution_count": null,
   "id": "0a712ad6",
   "metadata": {},
   "outputs": [],
   "source": []
  },
  {
   "cell_type": "markdown",
   "id": "fefb393b",
   "metadata": {},
   "source": [
    "**Double-click to edit** and enter your answer for part (b)."
   ]
  },
  {
   "cell_type": "markdown",
   "id": "733cfea2",
   "metadata": {},
   "source": [
    "(c) Show that if $\\lambda$ is an eigenvalue of $A$,\n",
    "then $\\mathbf{x} = \\begin{bmatrix}1\\\\ \\lambda\\\\ \\lambda^2\\end{bmatrix}$ is an associated eigenvector."
   ]
  },
  {
   "cell_type": "markdown",
   "id": "379c4cc1",
   "metadata": {},
   "source": [
    "**Double-click to edit** and enter your answer for part (c)."
   ]
  },
  {
   "cell_type": "markdown",
   "id": "d6c4aad3",
   "metadata": {},
   "source": [
    "## 3.\n",
    "Consider the Fibonacci sequence, defined by $x_0=1, x_1=1$,\n",
    "and $x_{k+2}=x_k+x_{k+1}$. Let $A$ be the matrix associated to this sequence."
   ]
  },
  {
   "cell_type": "markdown",
   "id": "6f3758e9",
   "metadata": {},
   "source": [
    "(a) State the matrix $A$, and show that $A$ has eigenvalues $\\lambda_\\pm = \\frac{1}{2}(1\\pm \\sqrt{5})$,            with associated eigenvectors $\\mathbf{x}_\\pm = \\begin{bmatrix}1\\\\ \\lambda_\\pm\\end{bmatrix}$."
   ]
  },
  {
   "cell_type": "code",
   "execution_count": null,
   "id": "6fc05666",
   "metadata": {},
   "outputs": [],
   "source": []
  },
  {
   "cell_type": "markdown",
   "id": "e7f7bb86",
   "metadata": {},
   "source": [
    "**Double-click to edit** and enter your answer for part (a)."
   ]
  },
  {
   "cell_type": "markdown",
   "id": "224e5c58",
   "metadata": {},
   "source": [
    "(b) Let $P = \\begin{bmatrix}1& 1\\\\ \\lambda_+ & \\lambda_-\\end{bmatrix}$,\n",
    "let $D = \\begin{bmatrix}\\lambda_+ & 0\\\\ 0 & \\lambda_-\\end{bmatrix}$,\n",
    "and let $\\mathbf{a_0}=\\begin{bmatrix}a_0\\\\a_1\\end{bmatrix}=P^{-1}\\mathbf{v}_0$,\n",
    "where $\\mathbf{v}_0=\\begin{bmatrix}1\\\\1\\end{bmatrix}$ gives the initial values of the sequence.\n",
    "\n",
    "Show that\n",
    "$$\n",
    "\\begin{aligned}\n",
    "\\mathbf{v}_n & = PD^nP^{-1}\\mathbf{v}_0\\\\\n",
    "& = a_0\\lambda_+^n\\mathbf{x}_+ + a_1\\lambda_-^n\\mathbf{x}_-.\n",
    "\\end{aligned}\n",
    "$$"
   ]
  },
  {
   "cell_type": "markdown",
   "id": "792a8a28",
   "metadata": {},
   "source": [
    "**Double-click to edit** and enter your answer for part (b)."
   ]
  },
  {
   "cell_type": "markdown",
   "id": "4b88404d",
   "metadata": {},
   "source": [
    "(c) Note that part (b) tells us that although the Fibonacci sequence is not a geometric sequence,\n",
    "it is the <em>sum</em> of two geometric sequences!\n",
    "\n",
    "By considering the numerical values of the eigenvalues $\\lambda_+$ and $\\lambda_-$,\n",
    "explain why we can nonetheless treat the Fibonacci sequence as *approximately* geometric when $n$ is large.\n",
    "\n",
    "(This is true more generally:\n",
    "if a matrix $A$ has one eigenvalue that is larger in absolute value than all the others,\n",
    "this eigenvalue is called the **dominant eigenvalue**.\n",
    "If $A$ is the matrix of some linear recurrence, and $A$ is diagonalizable,\n",
    "then we can consider the sequence as a sum of geometric sequences that will become approximately geometric in the long run.)"
   ]
  },
  {
   "cell_type": "markdown",
   "id": "5e38286d",
   "metadata": {},
   "source": [
    "**Double-click to edit** and enter your answer for part (c)."
   ]
  },
  {
   "cell_type": "markdown",
   "id": "c02aed87",
   "metadata": {},
   "source": [
    "## Challenge/Project Problem 1: Predator-Prey Systems\n",
    "\n",
    "As a more practical example, consider the following (over-simplified) predator-prey system.\n",
    "It is based on an example in [Interactive Linear Algebra](https://personal.math.ubc.ca/~tbjw/ila/dds.html),\n",
    "by Margalit, Rabinoff, and Williams, but adapted to the wildlife here in Lethbridge.\n",
    "An ecosystem contains both coyotes and deer.\n",
    "\n",
    "Initially, there is a population of <m>20</m> coyotes, and <m>500</m> deer. We will assume the following:\n",
    "\n",
    "- the share of the deer population eaten by a typical coyote in a year is 10 deer\n",
    "- in the absence of the coyotes, the deer population would increase by 50% per year\n",
    "- 20% of the coyote population dies each year of natural causes\n",
    "- the growth rate of the coyote population depends on the number of deer: for each 100 deer, 10 coyote pups will survive to adulthood.\n",
    "\n",
    "If we let $d_t$ denote the number of deer after $t$ years, and $c_t$ the number of coyotes, then we have\n",
    "$$\n",
    "\\begin{aligned}\n",
    "d_{t+1} & = 1.5 d_t - 10c_t\\\\\n",
    "c_{t+1} & = 0.1 d_t + 0.8c_t,\n",
    "\\end{aligned}\n",
    "$$\n",
    "or in matrix form,\n",
    "$$\n",
    "\\mathbf{p}_{t+1} = A\\mathbf{p}_t,\n",
    "$$\n",
    "where $\\mathbf{p}_t = \\bbm d_t\\\\c_t\\ebm$ and $A = \\bbm 1.5&-10\\\\0.1&0.8\\ebm$.\n",
    "\n",
    "After $t$ years, the two populations will be given by $\\mathbf{p}_t = A^t\\mathbf{p}_0$, where $\\mathbf{p}_o = \\bbm 500\\\\20\\ebm$ gives the initial populations of the two species.\n",
    "\n",
    "If possible, we would like to be able to find a closed-form formula for $\\mathbf{p}_t$,\n",
    "which would allow us to analyze the long-term predictions of our model.\n",
    "\n",
    "(a) Analyze the eigenvalues of this matrix, and diagonalize.\n",
    "The `sympy` library won't be up to the task.\n",
    "Instead, some combination of `numpy` and `scipy`,\n",
    "as described by [Patrick Walls on his website](https://patrickwalls.github.io/mathematicalpython/linear-algebra/eigenvalues-eigenvectors/), will be needed.\n",
    "\n",
    "(b) The eigenvalues turn out to be complex! What does that tell you about the nature of the system?\n",
    "What is the long-term behaviour of this system?\n",
    "\n",
    "*Hint*: Remember that those complex terms can be combined using sine and cosine functions. Since $A$ is a real matrix, the eigenvalues will have the form $\\lambda_\\pm = a\\pm bi$, where $a$ and $b$ are real.\n",
    "In polar form, $\\lambda_\\pm = re^{\\pm i\\theta}$, for some $r$ and $\\theta$, and by de Moivre's theorem,\n",
    "$$\n",
    "\\lambda_\\pm^n = r^n e^{\\pm in\\theta} = r^n\\cos(n\\theta)+ir^n\\sin(n\\theta).\n",
    "$$\n",
    "\n",
    "(c) What if you adjust the parameters? Can you come up with a system where both species flourish?\n",
    "Or one where they both disappear? Or one where the populations oscillate regularly?\n",
    "\n",
    "*Hint:* Referring to the hint from part (c),\n",
    "note that the size of the populations will depend on the modulus $r$\n",
    "of the eigenvalues.\n",
    "For what values of $r$ will the populations decline/increase/remain steady?\n",
    "\n",
    "(d) You may have read this while wondering,\n",
    "\"Does Sean actually know anything about ecology and population dynamics?\n",
    "Did he just make up those numbers?\"\n",
    "\n",
    "The answers are, respectively, no, and yes. Can you come up with numbers that are based on a realistic example?\n",
    "What does our model predict in that case? Is it accurate?"
   ]
  },
  {
   "cell_type": "markdown",
   "id": "692a75c1",
   "metadata": {},
   "source": [
    "## Challenge/project problem 2: Markov chains\n",
    "\n",
    "A special type of linear dynamical system occurs when the matrix $A$\n",
    "is **stochastic**.\n",
    "A stochastic matrix is one where each entry of the matrix is between 0 and 1,\n",
    "and all of the columns of the matrix sum to 1.\n",
    "\n",
    "The reason for these conditions is that the entries of a stochastic matrix represent probabilities;\n",
    "in particular, they are **transition probabilities**.\n",
    "That is, each number represents the probability of one state changing to another.\n",
    "\n",
    "If a system can be in one of $n$ possible states,\n",
    "we represent the system by an $n\\times 1$ vector $\\vv_t$,\n",
    "whose entries indicate the probability that the system is in a given state at time $t$.\n",
    "If we know that the system starts out in a particular state,\n",
    "then $\\vv_0$ will have a 1 in one of its entries, and 0 everywhere else.\n",
    "\n",
    "A Markov chain is given by such an initial vector, and a stochastic matrix.\n",
    "As an example, we will consider the following scenario,\n",
    "described in the book *Shape*, by Jordan Ellenberg:\n",
    "\n",
    "          A mosquito is born in a swamp, which we will call Swamp A.\n",
    "          There is another nearby swamp, called Swamp B.\n",
    "          Observational data suggests that when a mosquito is at Swamp A,\n",
    "          there is a 40% chance that it will remain there,\n",
    "          and a 60% chance that it will move to Swamp B.\n",
    "          When the mosquito is at Swamp B, there is a 70% chance that it will remain,\n",
    "          and a 30% chance that it will return to Swamp A.\n",
    "          \n",
    "### 1.\n",
    "(a) Give a stochastic matrix $M$ and a vector $\\vv_0$\n",
    "that represent the transition probabilities and initial state given above.\n",
    "\n",
    "(b) By diagonalizing the matrix $M$,\n",
    "determine the long-term probability that the mosquito will be found in either swamp.\n",
    "\n",
    "(c) You should have found that one of the eigenvalues of $M$ was $\\lambda=1$.\n",
    "The corresponding eigenvector $\\vv$ satisfies $M\\vv=\\vv$.\n",
    "This is known as a **steady-state vector**: if our system begins with state $\\vv$,\n",
    "it will remain there forever.\n",
    "\n",
    "Confirm that if the eigenvector $\\vv$ is rescaled so that its entries sum to 1,\n",
    "the resulting values agree with the long-term probabilities found in the previous part.\n",
    "\n",
    "### 2.\n",
    "A stochastic matrix $M$ is called **regular**\n",
    "some power $M^k$ has all positive entries.\n",
    "It is a theorem that every regular stochastic matrix has a steady-state vector.\n",
    "\n",
    "(a) Prove that if $M$ is a $2\\times 2$ stochastic matrix with no entry equal to zero,\n",
    "then 1 is an eigenvalue of $M$.\n",
    "\n",
    "(b) Prove that the product of two $2\\times 2$ stochastic matrices is stochastic.\n",
    "Conclude that if $M$ is stochastic, so is $M^k$ for each $k=1,2,3,\\ldots$.\n",
    "\n",
    "(c) Also prove that if $M^k$ has positive entries for some $k$,\n",
    "then 1 is an eigenvalue of $M$.\n",
    "\n",
    "*Hint:* You have already proved that a stochastic matrix with positive entries has eigenvalue 1,\n",
    "and that a power of a stochastic matrix is stochastic.\n",
    "If $M^k$ has positive entries for some $k$, what eigenvalue must it have?\n",
    "You may assume (it is true, but you do not have to prove it)\n",
    "that $M^{k+1}$ will also have positive entries.\n",
    "\n",
    "### 3.\n",
    "By searching online or in other textbooks,\n",
    "find and state a more interesting/complicated example of a Markov chain problem,\n",
    "and show how to solve it."
   ]
  }
 ],
 "metadata": {
  "kernelspec": {
   "display_name": "Python 3 (ipykernel)",
   "language": "python",
   "name": "python3"
  },
  "language_info": {
   "codemirror_mode": {
    "name": "ipython",
    "version": 3
   },
   "file_extension": ".py",
   "mimetype": "text/x-python",
   "name": "python",
   "nbconvert_exporter": "python",
   "pygments_lexer": "ipython3",
   "version": "3.11.6"
  }
 },
 "nbformat": 4,
 "nbformat_minor": 5
}
