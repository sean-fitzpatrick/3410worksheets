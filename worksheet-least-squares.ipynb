{
 "cells": [
  {
   "cell_type": "markdown",
   "id": "2b7e0737",
   "metadata": {},
   "source": [
    "# Worksheet: least squares approximation\n",
    "\n",
    "In many applied scenarios, it is not practical (or even, perhaps, possible)\n",
    "to find an exact solution to a problem.\n",
    "Sometimes we may be working with imperfect data.\n",
    "Other times, we may be dealing with a problem that is **overdetermined**,\n",
    "such as a system of linear equations with more equations than variables.\n",
    "(Quite often, both of these issues may be present.)\n",
    "\n",
    "(The term \"overdetermined\" is common in statistics. In other areas, such as physics, the term \"over-constrained\" is used instead.)\n",
    "\n",
    "An overdetermined system is quite likely to be inconsistent.\n",
    "That is, our problem requires finding a solution to a system $A\\mathbf{x}=\\mathbf{b}$,\n",
    "where no such solution exists!\n",
    "When no solution is possible, we can ask whether it is instead possible to find a *best approximation*.\n",
    "\n",
    "What would a best approximation look like in this case?\n",
    "Let $U=\\operatorname{col}(A)$ denote the column space of $A$,\n",
    "which we know is a subspace of $\\mathbb{R}^n$ (assuming $A$ is an $m\\times n$ matrix).\n",
    "The subspace $U$ is precisely the set of all vectors $\\mathbf{y}$ such that $A\\mathbf{x}=\\mathbf{y}$ has a solution.\n",
    "Among these vectors, we would like to find the one that is *closest* to $\\mathbf{b}$,\n",
    "in the sense that $\\lVert\\mathbf{y}-\\mathbf{b}\\rVert$ is as small as possible.\n",
    "\n",
    "But we know exactly what this vector $\\mathbf{y}$ should be:\n",
    "the orthogonal projection of $\\mathbf{b}$ onto $U$.\n",
    "\n",
    "The presentation in this worksheet is based on the one given in the text by Nicholson (see Section 5.6).\n",
    "Further details may be found there, or, for the more statistically inclined,\n",
    "on [Wikipedia](https://en.wikipedia.org/wiki/Least_squares\")."
   ]
  },
  {
   "cell_type": "markdown",
   "id": "2fa71711",
   "metadata": {},
   "source": [
    "Given an inconsistent system $A\\mathbf{x} = \\mathbf{b}$,\n",
    "we have two problems to solve:\n",
    "1. Find the vector $\\mathbf{y} = \\operatorname{proj}{U}{\\mathbf{b}}$, where $U=\\operatorname{col}(A)$\n",
    "2. Find a vector $\\mathbf{z}$ such that $A\\mathbf{z}=\\mathbf{y}$\n",
    "\n",
    "The vector $\\mathbf{z}$ is then our approximate solution.\n",
    "\n",
    "This can be done directly, of course:\n",
    "\n",
    "1. Find a basis for $U$\n",
    "2. Use the Gram-Schmidt algorithm to construct an orthogonal basis for $U$\n",
    "3. Use this orthogonal basis to compute $\\mathbf{y}=\\operatorname{proj}_{U}{\\mathbf{b}}$\n",
    "4. Solve the system $A\\mathbf{z}=\\mathbf{y}$.\n",
    "\n",
    "But there is another way to proceed: we know that $\\mathbf{b}-\\mathbf{y}=\\mathbf{b}-A\\mathbf{z}\\in U^\\bot$,\n",
    "so for any vector $A\\mathbf{x}\\in U$, $(A\\mathbf{x})\\cdot (\\mathbf{b}-A\\mathbf{z})=0$. Therefore,\n",
    "$$\n",
    "\\begin{aligned}\n",
    "        (A\\mathbf{x})\\cdot (\\mathbf{b}-A\\mathbf{z}) & =0\\\\\n",
    "        (A\\mathbf{x})^T(\\mathbf{b}-A\\mathbf{z}) & =0\\\\\n",
    "        \\mathbf{x}^TA^T(\\mathbf{b}-A\\mathbf{z}) & =0\\\\\n",
    "        \\mathbf{x}^T(A^T\\mathbf{b}-A^TA\\mathbf{z}) & =0\n",
    "\\end{aligned}\n",
    "$$\n",
    "for any vector $\\mathbf{x}\\in\\mathbb{R}^n$.\n",
    "\n",
    "Therefore, $A^T\\mathbf{b}-A^TA\\mathbf{z}=0$, or\n",
    "$$\n",
    "A^TA\\mathbf{z} = A^T\\mathbf{b}.\n",
    "$$\n",
    "Solving this system, called the **normal equations** for $\\mathbf{z}$,\n",
    "will yield our approximate solution."
   ]
  },
  {
   "cell_type": "markdown",
   "id": "874c81c5",
   "metadata": {},
   "source": [
    "To begin, let's compare the two methods discussed above for finding an approximate solution.\n",
    "Consider the system of equations $A\\mathbf{x}=\\mathbf{b}$, where\n",
    "$$\n",
    "A = \\begin{bmatrix} 3& -1 & 0& 5\\\\\n",
    "        -2& 7& -3& 0\\\\\n",
    "        4& -1& 2& 3\\\\\n",
    "        0& 3& 9& -1\\\\\n",
    "        7& -2& 4& -5\\\\\n",
    "        1& 0& 3& -8\\end{bmatrix} \\text{ and } \\mathbf{b} = \\begin{bmatrix} 4\\\\0\\\\1\\\\2\\\\-5\\\\-1\\end{bmatrix}.\n",
    "$$\n",
    "\n",
    "## 1.\n",
    "\n",
    "Confirm that the system has no solution."
   ]
  },
  {
   "cell_type": "code",
   "execution_count": null,
   "id": "aba2907f",
   "metadata": {},
   "outputs": [],
   "source": [
    "from sympy import Matrix,init_printing\n",
    "init_printing()"
   ]
  },
  {
   "cell_type": "markdown",
   "id": "063eacdd",
   "metadata": {},
   "source": [
    "**Double-click to edit** this cell, and explain your results for this problem."
   ]
  },
  {
   "cell_type": "markdown",
   "id": "c8253e9d",
   "metadata": {},
   "source": [
    "## 2.\n",
    "Find an orthogonal basis for the column space of $A$."
   ]
  },
  {
   "cell_type": "code",
   "execution_count": null,
   "id": "c55550ad",
   "metadata": {},
   "outputs": [],
   "source": [
    "from sympy import GramSchmidt"
   ]
  },
  {
   "cell_type": "markdown",
   "id": "a6b46b73",
   "metadata": {},
   "source": [
    "## 3.\n",
    "Compute the projection $\\mathbf{y}$ of $\\mathbf{b}$ onto the column space of $A$."
   ]
  },
  {
   "cell_type": "code",
   "execution_count": null,
   "id": "6fe72607",
   "metadata": {},
   "outputs": [],
   "source": []
  },
  {
   "cell_type": "markdown",
   "id": "30c765bd",
   "metadata": {},
   "source": [
    "## 4.\n",
    "Solve the system $A\\mathbf{z}=\\mathbf{y}$ for $\\mathbf{z}$."
   ]
  },
  {
   "cell_type": "code",
   "execution_count": null,
   "id": "52d0a45a",
   "metadata": {},
   "outputs": [],
   "source": []
  },
  {
   "cell_type": "markdown",
   "id": "db7b4d32",
   "metadata": {},
   "source": [
    "## 5.\n",
    "Solve the normal equations for $\\mathbf{z}$."
   ]
  },
  {
   "cell_type": "code",
   "execution_count": null,
   "id": "6d70c5f8",
   "metadata": {},
   "outputs": [],
   "source": []
  },
  {
   "cell_type": "markdown",
   "id": "d2ff0c2e",
   "metadata": {},
   "source": [
    "Next, we want to consider a problem found in many introductory science labs:\n",
    "finding a line of *best fit*. The situation is as follows:\n",
    "in some experiment, data points $(x_1,y_1), (x_2,y_2),\\ldots, (x_n,y_n)$\n",
    "have been found.\n",
    "We would like to find a function $y=f(x)=ax+b$ such that for each $i=1,2,\\ldots, n$,\n",
    "the value of $f(x_i)$ is as close as possible to $y_i$.\n",
    "\n",
    "Note that we have only two parameters available to tune: $a$ and $b$.\n",
    "We assume that some reasoning or experimental evidence has led us to conclude that a linear fit is reasonable.\n",
    "The challenge here is to make precise what we mean by \"as close as possible\".\n",
    "We have $n$ differences (sometimes called **residuals**) $r_i=y_i-f(x_i)$\n",
    "that we want to make small, by adjusting $a$ and $b$.\n",
    "But making one of the $r_i$ smaller might make another one larger!\n",
    "\n",
    "A measure of the overall error in the fit of the line is given by the sum of squares\n",
    "$$\n",
    "  S = r_1^2+r_2^2+\\cdots + r_n^2,\n",
    "$$\n",
    "and this is the quantity that we want to minimize. (Hence the name, \"least squares\".)\n",
    "\n",
    "Let $\\mathbf{v}=\\begin{bmatrix} a\\\\b\\end{bmatrix}$, and note that $f(x)=a+bx = \\begin{bmatrix} 1& x\\end{bmatrix}\\mathbf{v}$.\n",
    "Set $\\mathbf{y} = \\begin{bmatrix} y_1\\\\y_2\\\\\\vdots\\\\y_n\\end{bmatrix}$ and $\\mathbf{r}=\\begin{bmatrix} r_1\\\\r_2\\\\\\vdots\\\\r_n\\end{bmatrix}$.\n",
    "Then\n",
    "$$\n",
    "\\mathbf{r}=\\mathbf{y} - A\\mathbf{v},\n",
    "$$\n",
    "where $A = \\begin{bmatrix} 1& x_1\\\\1& x_2\\\\\\vdots & \\vdots \\\\1& x_n\\end{bmatrix}$.\n",
    "(Note that we are using $\\mathbf{y}$ to denote a different sort of vector than in problems 3 and 4.)\n",
    "\n",
    "We can safely assume that an exact solution $A\\mathbf{v}=\\mathbf{y}$ is impossible,\n",
    "so we search for an approximate one, with $\\mathbf{r}$ as small as possible.\n",
    "(Note that the magnitude of $\\mathbf{r}$ satisfies $\\lVert\\mathbf{r}\\rVert^2=S$.)\n",
    "But a solution $\\mathbf{z}$ that makes $\\mathbf{y}-A\\mathbf{z}$\n",
    "as small as possible is exactly the sort of approximate solution that we just learned to calculate!\n",
    "Solving the normal equations for $\\mathbf{z}=\\begin{bmatrix} a\\\\b\\end{bmatrix}$, we find that\n",
    "$$\n",
    "\\mathbf{z} = (A^TA)^{-1}(A^T\\mathbf{y}).\n",
    "$$"
   ]
  },
  {
   "cell_type": "markdown",
   "id": "bf2993bc",
   "metadata": {},
   "source": [
    "## 6.\n",
    "Find the equation of the best fit line for the following set of data points:\n",
    "$$\n",
    "(1,2.03), (2, 2.37), (3, 2.91), (4, 3.58), (5, 4.11), (6, 4.55), (7, 4.93), (8, 5.44), (9, 6.18).\n",
    "$$"
   ]
  },
  {
   "cell_type": "code",
   "execution_count": null,
   "id": "d48a81b4",
   "metadata": {},
   "outputs": [],
   "source": []
  },
  {
   "cell_type": "markdown",
   "id": "2f34bb6b",
   "metadata": {},
   "source": [
    "**Double-click to edit** this cell and explain your results for this problem."
   ]
  },
  {
   "cell_type": "markdown",
   "id": "9c92a661",
   "metadata": {},
   "source": [
    "## 7.\n",
    "Suppose we were instead trying to find the best *quadratic* fit for a dataset.\n",
    "What would our parameters be? What would the matrix $A$ look like?\n",
    "Illustrate with an example of your own."
   ]
  },
  {
   "cell_type": "code",
   "execution_count": null,
   "id": "eb5bee73",
   "metadata": {},
   "outputs": [],
   "source": []
  }
 ],
 "metadata": {
  "kernelspec": {
   "display_name": "Python 3 (ipykernel)",
   "language": "python",
   "name": "python3"
  },
  "language_info": {
   "codemirror_mode": {
    "name": "ipython",
    "version": 3
   },
   "file_extension": ".py",
   "mimetype": "text/x-python",
   "name": "python",
   "nbconvert_exporter": "python",
   "pygments_lexer": "ipython3",
   "version": "3.11.6"
  }
 },
 "nbformat": 4,
 "nbformat_minor": 5
}
