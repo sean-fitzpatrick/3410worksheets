{
 "cells": [
  {
   "cell_type": "markdown",
   "metadata": {},
   "source": [
    "# Worksheet: working with span"
   ]
  },
  {
   "cell_type": "markdown",
   "metadata": {},
   "source": [
    "In this worksheet, we will attempt to understand the concept of span. Recall from [Section 1.3](https://opentext.uleth.ca/Math3410/sec-span.html) that the span of a set of vectors $\\mathbf{v}_1, \\mathbf{v}_2,\\ldots, \\mathbf{v}_k$ in a vector space $V$ is the set of all linear combinations that can be generated from those vectors.\n",
    "\n",
    "Recall the following fact: given a matrix $A$ and a vector $\\mathbf{x}$, $A\\mathbf{x}$ is a linear combination of the columns of $A$.\n",
    "\n",
    "In particular, if we write $A$ in terms of its columns as $A=\\begin{bmatrix} \\mathbf{v}_1 & \\mathbf{v}_2 & \\cdots & \\mathbf{v}_n\\end{bmatrix}$, then\n",
    "$$\n",
    "A\\mathbf{x} = x_1\\mathbf{v}_1+x_2\\mathbf{v}_2+\\cdots + x_n\\mathbf{v}_n,\n",
    "$$\n",
    "where $x_1,x_2,\\ldots, x_n$ are the components of $\\mathbf{x}$.\n",
    "\n",
    "Let's confirm this for the matrix $A = \\begin{bmatrix} 2&3&-5&6\\\\-7&20&-11&6\\\\43&-6&31&2\\end{bmatrix}$ and vector $\\mathbf{x} = \\begin{bmatrix} 7\\\\-9\\\\3\\\\14\\end{bmatrix}$.\n",
    "\n",
    "Input the matrix and vector in the cell below."
   ]
  },
  {
   "cell_type": "code",
   "execution_count": null,
   "metadata": {},
   "outputs": [],
   "source": [
    "from sympy import Matrix, init_printing, symbols\n",
    "init_printing()"
   ]
  },
  {
   "cell_type": "markdown",
   "metadata": {},
   "source": [
    "For help with entering your matrix, see the [section on SymPy in the textbook](https://opentext.uleth.ca/Math3410/sec-sympy.html).\n",
    "\n",
    "Next, compute $A\\mathbf{x}$:"
   ]
  },
  {
   "cell_type": "code",
   "execution_count": null,
   "metadata": {},
   "outputs": [],
   "source": []
  },
  {
   "cell_type": "markdown",
   "metadata": {},
   "source": [
    "Finally, compute the corresponding linear combination of the columns of $A$, and confirm that you get the same answer."
   ]
  },
  {
   "cell_type": "code",
   "execution_count": null,
   "metadata": {},
   "outputs": [],
   "source": []
  },
  {
   "cell_type": "markdown",
   "metadata": {},
   "source": [
    "The question “Does the vector $\\mathbf{w}$ belong to the span of $\\mathbf{v}_1, \\mathbf{v}_2,\\ldots, \\mathbf{v}_k\\text{?}$” is equivalent to asking, “Can I write $\\mathbf{w}$ as a linear combination of the $\\mathbf{v}_i\\text{?}$”. This, in turn, is equivalent to asking:"
   ]
  },
  {
   "cell_type": "markdown",
   "metadata": {},
   "source": [
    "Do there exist scalars $c_1,c_2,\\ldots, c_k$ such that\n",
    "$$\n",
    "\\mathbf{w}= c_1\\mathbf{v}_1+c_2\\mathbf{v}_2+\\cdots +c_k\\mathbf{v}_k\\text{?}\n",
    "$$"
   ]
  },
  {
   "cell_type": "markdown",
   "metadata": {},
   "source": [
    "If the above vectors are vectors in $\\mathbb{R}^n$, then we just saw that the right-hand side of the above equation is $A\\mathbf{x}$, where the columns of $A$ are the vectors $\\mathbf{v}_1,\\mathbf{v}_2,\\ldots, \\mathbf{v}_k$. So the question of whether $\\mathbf{w}$ is in the span of the $\\mathbf{v}_i$ is equivalent to determining whether or not the equation $A\\mathbf{x}=\\mathbf{w}$ has a solution."
   ]
  },
  {
   "cell_type": "markdown",
   "metadata": {},
   "source": [
    "## 1. \n",
    "Determine whether or not the vector $\\mathbf{w}=\\langle 3,-1, 4, 2\\rangle$ in $\\mathbb{R}^4$ belongs to the span of the vectors\n",
    "$$\n",
    "\\langle 2, 1, 4, -3\\rangle, \\langle 0, 2, 1, 4\\rangle, \\langle -1, 1, 0, 2\\rangle\\text{.}\n",
    "$$"
   ]
  },
  {
   "cell_type": "markdown",
   "metadata": {},
   "source": [
    "<div class=\"mathbook-content\"><p id=\"p-102\">To assist with solving this problem, a code cell is provided below. Once you have determined the augmented matrix of your system of equations, see <a href=\"sec-sympy.ipynb\" class=\"internal\" title=\"Section A.3: SymPy for linear algebra\">Section A.3</a> for details on how to enter your matrix, and then compute its reduced row-echelon form.</p></div>"
   ]
  },
  {
   "cell_type": "code",
   "execution_count": null,
   "metadata": {},
   "outputs": [],
   "source": []
  },
  {
   "cell_type": "markdown",
   "metadata": {
    "hidden": false
   },
   "source": [
    "**Double-click this text** to edit it, and add a conclusion based on the output of the code cell above.\n",
    "\n",
    "(Do you recall how to tell if a system has a solution based on its RREF?)"
   ]
  },
  {
   "cell_type": "markdown",
   "metadata": {},
   "source": [
    "If our vector space $V$ is not $\\mathbb{R}^n$, we can still apply the above technique, at least when $V$ is finite-dimensional. For the next problem, write $q(x)$ as a the span of the polynomials $p_1(x), p_2(x), p_3(x)$, and then figure out how to turn that into a system of linear equations."
   ]
  },
  {
   "cell_type": "markdown",
   "metadata": {},
   "source": [
    "## 2.\n",
    "Determine whether or not the polynomial $q(x) = 4-6x-11x^2$ belongs to the span of the polynomials\n",
    "$$\n",
    "p_1(x) = x-3x^2, p_2(x)=2-x, p_3(x) = -1+4x+x^2\\text{.}\n",
    "$$"
   ]
  },
  {
   "cell_type": "markdown",
   "metadata": {
    "hidden": false
   },
   "source": [
    "**Double click on this text** to edit it, and replace it with an explanation of how to obtain the necessary system of equations. Then, enter the corresponding augmented matrix in the code cell below, and find its reduced row-echelon form.\n"
   ]
  },
  {
   "cell_type": "code",
   "execution_count": null,
   "metadata": {},
   "outputs": [],
   "source": []
  },
  {
   "cell_type": "markdown",
   "metadata": {
    "hidden": false
   },
   "source": [
    "Finally, **edit this text** to add a conclusion to your solution."
   ]
  },
  {
   "cell_type": "markdown",
   "metadata": {},
   "source": [
    "## 3.\n",
    "Determine whether or not the matrix $B = \\begin{bmatrix} 4&-1&7\\\\-5&6&2\\end{bmatrix}$ belongs to the span of the matrices\n",
    "$$\n",
    "A_1 = \\begin{bmatrix} 1&2&0\\\\-3&2&4\\end{bmatrix}, A_2 = \\begin{bmatrix} 3&2&-7\\\\0&1&3\\end{bmatrix}, A_3 = \\begin{bmatrix} 0&1&3\\\\2&0&-4\\end{bmatrix}, A_4 = \\begin{bmatrix} -1&1&3\\\\2&0&1\\end{bmatrix}.\n",
    "$$"
   ]
  },
  {
   "cell_type": "markdown",
   "metadata": {
    "hidden": false
   },
   "source": [
    "**Double click on this text** to edit it, and replace it with an explanation of how to obtain the necessary system of equations. Then, enter the corresponding augmented matrix in the code cell below, and find its reduced row-echelon form."
   ]
  },
  {
   "cell_type": "code",
   "execution_count": null,
   "metadata": {},
   "outputs": [],
   "source": []
  },
  {
   "cell_type": "markdown",
   "metadata": {},
   "source": [
    "Now, **edit this text** to add a conclusion based on the output above."
   ]
  },
  {
   "cell_type": "markdown",
   "metadata": {},
   "source": [
    "The above problems all answer the same basic question: given a *particular* vector $\\mathbf{w}$, is it in the span of given vectors $\\mathbf{v}_1,\\mathbf{v}_2,\\ldots,\\mathbf{v}_k$?\n",
    "\n",
    "A more interesting problem is the following: given the vectors $\\mathbf{v}_1,\\mathbf{v}_2,\\ldots, \\mathbf{v}_k$, what are *all* the vectors in their span? That is, how can we describe the span of a set of vectors more directly?\n",
    "\n",
    "We can answer this question as follows: let $\\mathbf{w}$ be an *arbitrary* vector in $V$, and write it in terms of its (unknown) coefficients. E.g. in question 1 above, we might let $\\mathbf{w} = \\langle a, b, c, d\\rangle$."
   ]
  },
  {
   "cell_type": "markdown",
   "metadata": {},
   "source": [
    "## 4.\n",
    "\n",
    "For each problem above, define symbolic variables using the `symbols` command. For example, you can enter\n",
    "```\n",
    "a, b, c = symbols('a b c')\n",
    "```\n",
    "to create three undetermined symbols. \n",
    "\n",
    "Then, replace the last column in each augmented matrix from the previous problems with a column of symbols, and instead of using the `rref()` command, use the `echelon_form()` command to reduce the matrix.\n",
    "\n",
    "By looking at the reduced form of the matrix, determine a relationship (or relationships) between the variables that must hold for the system to be consistent. You can then use this to define the set of vectors in the span.\n"
   ]
  },
  {
   "cell_type": "code",
   "execution_count": null,
   "metadata": {},
   "outputs": [],
   "source": []
  },
  {
   "cell_type": "markdown",
   "metadata": {},
   "source": [
    "**Double-click to edit this text** and describe the span of the vectors from problem 1."
   ]
  },
  {
   "cell_type": "code",
   "execution_count": null,
   "metadata": {},
   "outputs": [],
   "source": []
  },
  {
   "cell_type": "markdown",
   "metadata": {},
   "source": [
    "**Double-click to edit this text** and describe the span of the vectors from problem 2."
   ]
  },
  {
   "cell_type": "code",
   "execution_count": null,
   "metadata": {},
   "outputs": [],
   "source": []
  },
  {
   "cell_type": "markdown",
   "metadata": {},
   "source": [
    "**Double-click to edit this text** and describe the span of the vectors from problem 3."
   ]
  }
 ],
 "metadata": {
  "kernelspec": {
   "display_name": "Python 3 (ipykernel)",
   "language": "python",
   "name": "python3"
  },
  "language_info": {
   "codemirror_mode": {
    "name": "ipython",
    "version": 3
   },
   "file_extension": ".py",
   "mimetype": "text/x-python",
   "name": "python",
   "nbconvert_exporter": "python",
   "pygments_lexer": "ipython3",
   "version": "3.11.6"
  },
  "name": "worksheet-span.ipynb"
 },
 "nbformat": 4,
 "nbformat_minor": 4
}
