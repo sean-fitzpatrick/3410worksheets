{
 "cells": [
  {
   "cell_type": "markdown",
   "id": "2a7db3d8-8e92-4843-ba95-fc8e840b0cd9",
   "metadata": {},
   "source": [
    "# Worksheet: Orthogonal bases\n",
    "\n",
    "This worksheet will give you an opportunity to work with orthogonal sets of vectors in $\\mathbb{R}^n$, and explore some of the related results. First, we will look at the construction of an orthogonal complement.\n",
    "\n",
    "## Problem 1\n",
    "Let $T:\\mathbb{R}^7\\to\\mathbb{R}^4$ be given by $T(\\mathbf{x})=A\\mathbf{x}$, where\n",
    "$$\n",
    "A = \\begin{bmatrix} 3&-4&2& 0&1&7&-5\\\\\n",
    "                   -4& 7&0&-3&2&0& 1\\\\\n",
    "                    0& 5&8&-9&10&27&-19\\\\\n",
    "                    2&7&-3&1&5&12&-9\\end{bmatrix}\n",
    "$$\n",
    "\n",
    "(a) Find a basis for the kernel of $T$ (that is, the nullspace of $A$)."
   ]
  },
  {
   "cell_type": "code",
   "execution_count": null,
   "id": "9d82ddcd-2c1f-4553-becf-9d4e7b0d9f65",
   "metadata": {},
   "outputs": [],
   "source": [
    "from sympy import Matrix, init_printing\n",
    "init_printing()"
   ]
  },
  {
   "cell_type": "markdown",
   "id": "12565a05-aac3-4b56-abad-36ea30bf011b",
   "metadata": {},
   "source": [
    "(b) Extend the basis from part (a) to a basis of $\\mathbb{R}^7$.\n",
    "\n",
    "*Suggestion*: recall that you can extend to a basis by adding elements of the standard basis for $\\mathbb{R}^7$.\n",
    "\n",
    "Use the code cell below to enter a matrix you can use to confirm that your basis is, in fact a basis."
   ]
  },
  {
   "cell_type": "code",
   "execution_count": null,
   "id": "ee6451c0-70c9-4397-8b20-f603d36dfbdc",
   "metadata": {},
   "outputs": [],
   "source": []
  },
  {
   "cell_type": "markdown",
   "id": "02e070b9-fed7-4d01-a3cd-b792735aebeb",
   "metadata": {},
   "source": [
    "Once your testing indicates that you have successfully found a basis, input your basis vectors below.\n",
    "\n",
    "*Suggestion*: in part (a), you probably used the command `A.nullspace()` to find the basis for $\\operatorname{ker}(T)$. If you enter this as\n",
    "```\n",
    "B1 = A.nullspace()\n",
    "B1\n",
    "```\n",
    "then you can use the name `B1` to recall those vectors, so you don't have to input them manually. The object `B1` is a list of vectors, and you can call elements of that list as `B1[0]`, `B1[1]`, etc.\n",
    "\n",
    "First, input the vectors that you added to `B1` to get a basis of $\\mathbb{R}^7$. Then, define your basis as a list `B`. You will want to enter something like `B = (B1[0],B1[1],B1[2],e1,e2,e3,e4)`, if you found that there were three vectors in the list `B1`, and that the first 4 standard basis vectors were sufficient to get you a basis for $\\mathbb{R}^7$. (This may not be what you find, of course.)"
   ]
  },
  {
   "cell_type": "code",
   "execution_count": null,
   "id": "b1e42965-a8b7-48ab-814c-7428135eb17c",
   "metadata": {},
   "outputs": [],
   "source": []
  },
  {
   "cell_type": "markdown",
   "id": "10683371-18cd-405a-be24-5c437a5ab090",
   "metadata": {},
   "source": [
    "(c) Use the Gram-Schmidt algorithm to create an orthogonal basis for $\\mathbb{R}^7$ from the basis `B`. You will want to give your new basis a name, so that you can reference its elements later."
   ]
  },
  {
   "cell_type": "code",
   "execution_count": null,
   "id": "74b85286-707c-4ed9-a3d4-ac60238b73e5",
   "metadata": {},
   "outputs": [],
   "source": [
    "from sympy import GramSchmidt"
   ]
  },
  {
   "cell_type": "markdown",
   "id": "07dbc088-745c-471c-837b-5b6b56070ea7",
   "metadata": {},
   "source": [
    "(d) Let $U=\\operatorname{ker}(T)$. If $\\dim U=k$ then the first $k$ vectors of your orthogonal basis for $\\mathbb{R}^7$ form an orthgonal basis for $U$, according to the Gram-Schmidt theorem. Confirm that each of the remaining vectors in this basis are orthgonal to the vectors in the basis `B1`.\n",
    "\n",
    "*Note*: you can compute the dot product of vectors `X` and `Y` using the syntax `X.dot(Y)`."
   ]
  },
  {
   "cell_type": "code",
   "execution_count": null,
   "id": "be511d64-5752-49cb-be71-771aa0002e0e",
   "metadata": {},
   "outputs": [],
   "source": []
  },
  {
   "cell_type": "markdown",
   "id": "03ee93aa-178b-4449-9e26-e88bacd6c32a",
   "metadata": {},
   "source": [
    "It follows that these remaining vectors are elements of $U^\\bot$. In fact, they form a basis. We know they are independent, because they are part of a basis for $\\mathbb{R}^7$. And since $\\dim U+\\dim U^\\bot = \\dim \\mathbb{R}^7$, we know we have the right number.\n",
    "\n",
    "(e) Given the vector $\\mathbf{x} = (4,-1,6,3,8,2,5)\\in\\mathbb{R}^7$, find a vector $\\mathbf{p}\\in U=\\operatorname{ker}(T)$ such that $\\lVert \\mathbf{x}-\\mathbf{p}\\rVert$ is as small as possible."
   ]
  },
  {
   "cell_type": "code",
   "execution_count": null,
   "id": "a17b05b9-fc6c-4a71-b8e4-10cd71100b82",
   "metadata": {},
   "outputs": [],
   "source": []
  },
  {
   "cell_type": "markdown",
   "id": "29ee2013-470d-401c-9f04-37772b3b58f1",
   "metadata": {},
   "source": [
    "# Problem 2\n",
    "\n",
    "[Theorem 3.3.11](https://opentext.uleth.ca/Math3410/section-projection.html#thm-complement-matrix) states the following: given a subspace $U\\subseteq \\mathbb{R}^n$ with basis $B=\\{\\mathbf{u}_1,\\ldots, \\mathbf{u}_k\\}$ (not necessarily an orthogonal basis), let $A$ be the $n\\times k$ matrix whose columns are the vectors in $B$. Then $U^\\bot = \\operatorname{null}(A^T)$.\n",
    "\n",
    "(a) Put another way, this theorem states that $\\mathbf{x}\\in U^\\bot$ if and only if $A^T\\mathbf{x}=\\mathbf{0}$. Explain why this is true."
   ]
  },
  {
   "cell_type": "markdown",
   "id": "096fc5ec-4f72-4326-8dbf-f694223cca3e",
   "metadata": {},
   "source": [
    "**Double-click on this text** to make this cell editable. Then enter your answer for part (a)."
   ]
  },
  {
   "cell_type": "markdown",
   "id": "5aead801-be04-411a-8984-70c288eefc13",
   "metadata": {},
   "source": [
    "(b) Let $U = \\{(4a-3b+2c,a-7b+5c,9a-5c,-3b-7c,-3a+2b-5c,4a-7b)\\}\\subseteq \\mathbb{R}^6$. Determine a basis for $U$, and input the vectors below."
   ]
  },
  {
   "cell_type": "code",
   "execution_count": null,
   "id": "7c01bf72-f516-47a5-80c4-ab09a3ea5939",
   "metadata": {},
   "outputs": [],
   "source": []
  },
  {
   "cell_type": "markdown",
   "id": "79108316-c005-46ee-89a4-2b74d37c5edb",
   "metadata": {},
   "source": [
    "(c) Use Theorem 3.3.11 to find a basis for $U^\\bot$."
   ]
  },
  {
   "cell_type": "code",
   "execution_count": null,
   "id": "beee5bd2-0cd4-4360-8724-d028296c76b1",
   "metadata": {},
   "outputs": [],
   "source": []
  }
 ],
 "metadata": {
  "kernelspec": {
   "display_name": "Python 3 (ipykernel)",
   "language": "python",
   "name": "python3"
  },
  "language_info": {
   "codemirror_mode": {
    "name": "ipython",
    "version": 3
   },
   "file_extension": ".py",
   "mimetype": "text/x-python",
   "name": "python",
   "nbconvert_exporter": "python",
   "pygments_lexer": "ipython3",
   "version": "3.11.6"
  }
 },
 "nbformat": 4,
 "nbformat_minor": 5
}
