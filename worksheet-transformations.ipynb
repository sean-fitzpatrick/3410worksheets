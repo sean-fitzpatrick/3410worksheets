{
 "cells": [
  {
   "cell_type": "markdown",
   "metadata": {},
   "source": [
    "$\\newcommand{\\spn}{\\operatorname{span}}\n",
    "\\newcommand{\\bbm}{\\begin{bmatrix}}\n",
    "\\newcommand{\\ebm}{\\end{bmatrix}}\n",
    "\\newcommand{\\R}{\\mathbb{R}}\n",
    "\\newcommand{\\im}{\\operatorname{im}}\n",
    "\\newcommand{\\nll}{\\operatorname{null}}\n",
    "\\newcommand{\\csp}{\\operatorname{col}}\n",
    "\\newcommand{\\rank}{\\operatorname{rank}}\n",
    "\\newcommand{\\diag}{\\operatorname{diag}}\n",
    "\\newcommand{\\tr}{\\operatorname{tr}}\n",
    "\\newcommand{\\dotp}{\\!\\boldsymbol{\\cdot}\\!}\n",
    "\\newcommand{\\len}[1]{\\lVert #1\\rVert}\n",
    "\\newcommand{\\abs}[1]{\\lvert #1\\rvert}\n",
    "\\newcommand{\\proj}[2]{\\operatorname{proj}_{#1}{#2}}\n",
    "\\newcommand{\\bz}{\\overline{z}}\n",
    "\\newcommand{\\zz}{\\mathbf{z}}\n",
    "\\newcommand{\\uu}{\\mathbf{u}}\n",
    "\\newcommand{\\vv}{\\mathbf{v}}\n",
    "\\newcommand{\\ww}{\\mathbf{w}}\n",
    "\\newcommand{\\xx}{\\mathbf{x}}\n",
    "\\newcommand{\\yy}{\\mathbf{y}}\n",
    "\\newcommand{\\zer}{\\mathbf{0}}\n",
    "\\newcommand{\\vecq}{\\mathbf{q}}\n",
    "\\newcommand{\\vecp}{\\mathbf{p}}\n",
    "\\newcommand{\\vece}{\\mathbf{e}}\n",
    "\\newcommand{\\basis}[2]{\\{\\mathbf{#1}_1,\\mathbf{#1}_2,\\ldots,\\mathbf{#1}_{#2}\\}}\n",
    "\\newcommand{\\amp}{&}\n",
    "$"
   ]
  },
  {
   "cell_type": "markdown",
   "metadata": {},
   "source": [
    "## Worksheet: matrix transformations"
   ]
  },
  {
   "cell_type": "markdown",
   "metadata": {},
   "source": [
    "This worksheet deals with matrix transformations, and in particular, kernel and image. The goal is to understand these important subspaces in a familiar context.\n",
    "\n",
    "Let $A$ be an $m\\times n$ matrix. We can use $A$ to define a transformation $T_A:\\R^n\\to \\R^m$ given by $T_A(\\xx)=A\\xx\\text{,}$ where we view $\\xx$ as an $n\\times 1$ column vector.\n",
    "\n",
    "The **kernel** of $T_A$ is the set of vectors $\\xx$ such that $T_A(\\xx)=\\zer\\text{.}$ That is, $\\ker T_A$ is the set of solutions to the homogeneous system $A\\xx = \\zer\\text{.}$\n",
    "\n",
    "The **image** of $T_A$ (also known as the range of $T_A$) is the set of vectors $\\yy\\in \\R^m$ such that $\\yy = A\\xx$ for some $\\xx\\in\\R^n\\text{.}$ In other words, $\\im(T_A)$ is the set of vectors $\\yy$ for which the non-homogeneous system $A\\xx=\\yy$ is consistent.\n",
    "\n",
    "Because $T_A$ is a linear transformation, we can compute it as long as we're given its values on a basis. If $\\{\\vv_1, \\vv_2,\\ldots, \\vv_n\\}$ is a basis for $\\R^n\\text{,}$ then for any $\\xx\\in\\R^n$ there exist unique scalars $c_1,c_2,\\ldots, c_n$ such that\n",
    "$$\n",
    "\\xx = c_1\\vv_1+c_2\\vv_2+\\cdots + c_n\\vv_n\\text{,}\n",
    "$$\n",
    "\n",
    "and since $T_A$ is linear, we have\n",
    "$$\n",
    "T_A(\\xx)=c_1T_A(\\vv_1)+c_2T_A(\\vv_2)+\\cdots +c_nT_A(\\vv_n)\\text{.}\n",
    "$$\n",
    "\n",
    "The main challenge, computationally speaking, is that if our basis is not the standard basis, some effort will be required to write $\\xx$ in terms of the given basis."
   ]
  },
  {
   "cell_type": "markdown",
   "metadata": {},
   "source": [
    "## 1.\n",
    "Confirm that\n",
    "$$\n",
    "B=\\left\\{\\begin{bmatrix}1\\\\0\\\\2\\\\3\\end{bmatrix},\\begin{bmatrix}4\\\\2\\\\0\\\\-3\\end{bmatrix},\n",
    "\\begin{bmatrix}0\\\\4\\\\-3\\\\2\\end{bmatrix}, \\begin{bmatrix}3\\\\5\\\\-2\\\\1\\end{bmatrix}\\right\\}\n",
    "$$\n",
    "\n",
    "is a basis for $\\R^4\\text{.}$"
   ]
  },
  {
   "cell_type": "markdown",
   "metadata": {},
   "source": [
    "To assist with solving this problem, a code cell is provided below. Recall that you can enter the matrix $\\begin{bmatrix}a\\amp b\\amp c\\\\d\\amp e\\amp f\\\\g\\amp h\\amp i\\end{bmatrix}$ as `Matrix([[a,b,c],[d,e,f],[g,h,i]])` or as `Matrix(3,3,[a,b,c,d,e,f,g,h,i])`."
   ]
  },
  {
   "cell_type": "markdown",
   "metadata": {},
   "source": [
    "The reduced row-echeleon form of `A` is given by `A.rref()`. The product of matrices `A` and `B` is simply `A*B`. The inverse of a matrix `A` can be found using `A.inv()` or simply `A**(-1)`."
   ]
  },
  {
   "cell_type": "markdown",
   "metadata": {},
   "source": [
    "One note of caution: in the HTML worksheet, if you don't import `sympy` as your first line of code, you'll instead use Sage syntax. Sage uses `A.inverse()` instead of `A.inv()`."
   ]
  },
  {
   "cell_type": "markdown",
   "metadata": {},
   "source": [
    "In a Jupyter notebook, remember you can generate additional code cells by clicking on the `+` button."
   ]
  },
  {
   "cell_type": "code",
   "execution_count": null,
   "metadata": {},
   "outputs": [],
   "source": [
    "from sympy import Matrix,init_printing\n",
    "init_printing()"
   ]
  },
  {
   "cell_type": "markdown",
   "metadata": {},
   "source": [
    "You can also use the cell below to write down any necessary explanation. If you want to use mathematical notation, wrap your math in `$` delimiters. A vector can be written as `\\vec{v}` (if you want to get the little arrow on top). Matrices are a bit annoying to enter: the syntax looks like `$A=\\begin{bmatrix} a & b\\\\ c & d\\end{bmatrix}$`, which creates $A=\\begin{bmatrix} a & b\\\\ c & d\\end{bmatrix}$. You can also create a matrix by using Sympy syntax in a code cell."
   ]
  },
  {
   "cell_type": "markdown",
   "metadata": {},
   "source": [
    "**Double click to edit** this cell and type in your explanation."
   ]
  },
  {
   "cell_type": "markdown",
   "metadata": {},
   "source": [
    "## 2.\n",
    "Write each of the standard basis vectors in terms of this basis.\n",
    "\n",
    "*Suggestion:* in each case, this can be done by solving a matrix equation, using the inverse of an appropriate matrix.\n",
    "\n",
    "Use the text cell below to explain how to set things up, and then the code cell below it to run any necessary computations."
   ]
  },
  {
   "cell_type": "code",
   "execution_count": null,
   "metadata": {},
   "outputs": [],
   "source": []
  },
  {
   "cell_type": "markdown",
   "metadata": {
    "hidden": false
   },
   "source": [
    "**Double click to edit** this cell and type in your explanation."
   ]
  },
  {
   "cell_type": "markdown",
   "metadata": {},
   "source": [
    "A linear transformation $T:\\R^4\\to \\R^4$ is now defined as follows:\n",
    "$$\n",
    "T\\left(\\begin{bmatrix}1\\\\0\\\\2\\\\3\\end{bmatrix}\\right)=\\begin{bmatrix}3\\\\0\\\\2\\\\-1\\end{bmatrix},\n",
    "T\\left(\\begin{bmatrix}4\\\\2\\\\0\\\\-3\\end{bmatrix}\\right)=\\begin{bmatrix}1\\\\2\\\\0\\\\5\\end{bmatrix},\n",
    "T\\left(\\begin{bmatrix}0\\\\4\\\\-3\\\\2\\end{bmatrix}\\right)=\\begin{bmatrix}4\\\\2\\\\2\\\\4\\end{bmatrix},\n",
    "T\\left(\\begin{bmatrix}3\\\\5\\\\-2\\\\1\\end{bmatrix}\\right)=\\begin{bmatrix}2\\\\4\\\\0\\\\10\\end{bmatrix}\\text{.}\n",
    "$$"
   ]
  },
  {
   "cell_type": "markdown",
   "metadata": {},
   "source": [
    "Let $\\{\\vece_1,\\vece_2,\\vece_3, \\vece_4\\}$ denote the standard basis for $\\R^4\\text{.}$"
   ]
  },
  {
   "cell_type": "markdown",
   "metadata": {},
   "source": [
    "## 3.\n",
    "Determine $T(\\vece_i)$ for $i=1,2,3,4\\text{,}$ and in so doing, determine the matrix $A$ such that $T=T_A\\text{.}$"
   ]
  },
  {
   "cell_type": "code",
   "execution_count": null,
   "metadata": {},
   "outputs": [],
   "source": []
  },
  {
   "cell_type": "markdown",
   "metadata": {
    "hidden": false
   },
   "source": [
    "**Double click to edit** this cell and type in your explanation."
   ]
  },
  {
   "cell_type": "markdown",
   "metadata": {},
   "source": [
    "## 4.\n",
    "Let $M$ be the matrix whose columns are given by the values of $T$ on the basis $B\\text{.}$ (This would be the matrix of $T$ if $B$ was actually the standard basis.) Let $N$ be the matrix whose inverse you used to solve part (b). Can you find a way to combine these matrices to obtain the matrix $A\\text{?}$ If so, explain why your result makes sense."
   ]
  },
  {
   "cell_type": "code",
   "execution_count": null,
   "metadata": {},
   "outputs": [],
   "source": []
  },
  {
   "cell_type": "markdown",
   "metadata": {
    "hidden": false
   },
   "source": [
    "**Double click to edit** this cell and type in your explanation."
   ]
  },
  {
   "cell_type": "markdown",
   "metadata": {},
   "source": [
    "Next we will compute the kernel and image of the transformation from the previous exercises. Recall that when solving a homogeneous system $A\\xx = \\zer\\text{,}$ we find the RREF of $A\\text{,}$ and any variables whose columns do not contain a leading 1 are assigned as parameters. We then express the general solution $x$ in terms of those parameters."
   ]
  },
  {
   "cell_type": "markdown",
   "metadata": {},
   "source": [
    "The image of a matrix transformation $T_A$ is also known as the **column space** of $A\\text{,}$ because the range of $T_A$ is precisely the span of the columns of $A\\text{.}$ The RREF of $A$ tells us which columns to keep: the columns of $A$ that correspond to the columns in the RREF of $A$ with a leading 1."
   ]
  },
  {
   "cell_type": "markdown",
   "metadata": {},
   "source": [
    "Let $T$ be the linear transformation given in the previous exercises."
   ]
  },
  {
   "cell_type": "markdown",
   "metadata": {},
   "source": [
    "## 5.\n",
    "Determine the kernel of $T\\text{.}$"
   ]
  },
  {
   "cell_type": "code",
   "execution_count": null,
   "metadata": {},
   "outputs": [],
   "source": []
  },
  {
   "cell_type": "markdown",
   "metadata": {
    "hidden": false
   },
   "source": [
    "**Double click to edit** this cell and type in your explanation."
   ]
  },
  {
   "cell_type": "markdown",
   "metadata": {},
   "source": [
    "## 6.\n",
    "Determine the image of $T\\text{.}$"
   ]
  },
  {
   "cell_type": "code",
   "execution_count": null,
   "metadata": {},
   "outputs": [],
   "source": []
  },
  {
   "cell_type": "markdown",
   "metadata": {
    "hidden": false
   },
   "source": [
    "**Double click to edit** this cell and type in your explanation."
   ]
  },
  {
   "cell_type": "markdown",
   "metadata": {},
   "source": [
    "## 7.\n",
    "The *Dimension Theorem* states that for a linear transformation $T:V\\to W\\text{,}$ where $V$ is finite-dimensional,\n",
    "$$\n",
    "\\dim V = \\dim\\ker(T)+ \\dim\\im(T)\\text{.}\n",
    "$$\n",
    "\n",
    "Confirm that your results on this worksheet agree with this theorem."
   ]
  },
  {
   "cell_type": "markdown",
   "metadata": {},
   "source": [
    "**Double click to edit** this cell and type in your explanation."
   ]
  },
  {
   "cell_type": "code",
   "execution_count": null,
   "metadata": {},
   "outputs": [],
   "source": []
  }
 ],
 "metadata": {
  "kernelspec": {
   "display_name": "Python 3 (ipykernel)",
   "language": "python",
   "name": "python3"
  },
  "language_info": {
   "codemirror_mode": {
    "name": "ipython",
    "version": 3
   },
   "file_extension": ".py",
   "mimetype": "text/x-python",
   "name": "python",
   "nbconvert_exporter": "python",
   "pygments_lexer": "ipython3",
   "version": "3.11.6"
  },
  "name": "worksheet-transformations.ipynb"
 },
 "nbformat": 4,
 "nbformat_minor": 4
}
