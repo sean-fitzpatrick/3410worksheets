{
 "cells": [
  {
   "cell_type": "markdown",
   "metadata": {},
   "source": [
    "$\\newcommand{\\spn}{\\operatorname{span}}\n",
    "\\newcommand{\\bbm}{\\begin{bmatrix}}\n",
    "\\newcommand{\\ebm}{\\end{bmatrix}}\n",
    "\\newcommand{\\R}{\\mathbb{R}}\n",
    "\\newcommand{\\im}{\\operatorname{im}}\n",
    "\\newcommand{\\nll}{\\operatorname{null}}\n",
    "\\newcommand{\\csp}{\\operatorname{col}}\n",
    "\\newcommand{\\rank}{\\operatorname{rank}}\n",
    "\\newcommand{\\diag}{\\operatorname{diag}}\n",
    "\\newcommand{\\tr}{\\operatorname{tr}}\n",
    "\\newcommand{\\dotp}{\\!\\boldsymbol{\\cdot}\\!}\n",
    "\\newcommand{\\len}[1]{\\lVert #1\\rVert}\n",
    "\\newcommand{\\abs}[1]{\\lvert #1\\rvert}\n",
    "\\newcommand{\\proj}[2]{\\operatorname{proj}_{#1}{#2}}\n",
    "\\newcommand{\\bz}{\\overline{z}}\n",
    "\\newcommand{\\zz}{\\mathbf{z}}\n",
    "\\newcommand{\\uu}{\\mathbf{u}}\n",
    "\\newcommand{\\vv}{\\mathbf{v}}\n",
    "\\newcommand{\\ww}{\\mathbf{w}}\n",
    "\\newcommand{\\xx}{\\mathbf{x}}\n",
    "\\newcommand{\\yy}{\\mathbf{y}}\n",
    "\\newcommand{\\zer}{\\mathbf{0}}\n",
    "\\newcommand{\\vecq}{\\mathbf{q}}\n",
    "\\newcommand{\\vecp}{\\mathbf{p}}\n",
    "\\newcommand{\\vece}{\\mathbf{e}}\n",
    "\\newcommand{\\basis}[2]{\\{\\mathbf{#1}_1,\\mathbf{#1}_2,\\ldots,\\mathbf{#1}_{#2}\\}}\n",
    "\\newcommand{\\amp}{&}\n",
    "$"
   ]
  },
  {
   "cell_type": "markdown",
   "metadata": {},
   "source": [
    "# Worksheet: dual basis"
   ]
  },
  {
   "cell_type": "markdown",
   "metadata": {},
   "source": [
    "Let $V$ be a vector space over $\\R\\text{.}$ (That is, scalars are real numbers, rather than, say, complex.) A linear transformation $\\phi:V\\to \\R$ is called a **linear functional**.\n",
    "\n",
    "Here are some examples of linear functionals:\n",
    "- The map $\\phi:\\R^3\\to \\R$ given by $\\phi(x,y,z) = 3x-2y+5z\\text{.}$\n",
    "- The evaluation map $ev_a:P_n(\\R)\\to \\R$ given by $ev_a(p) = p(a)\\text{.}$ (For example, $ev_2(3-4x+5x^2) = 2-4(2)+5(2^2) = 14\\text{.}$)\n",
    "- The map $\\phi:\\mathcal{C}[a,b]\\to \\R$ given by $\\phi(f) = \\int_a^b f(x)\\,dx\\text{,}$ where $\\mathcal{C}[a,b]$ denotes the space of all continuous functions on $[a,b]\\text{.}$\n",
    "\n",
    "Note that for any vector spaces $V,W\\text{,}$ the set $\\mathcal{L}(V,W)$ of linear transformations from $V$ to $W$ is itself a vector space, if we define\n",
    "$$\n",
    "(S+T)(v) = S(v)+T(v),\\quad \\text{ and } \\quad (kT)(v)=k(T(v))\\text{.}\n",
    "$$\n",
    "\n",
    "In particular, given a vector space $V\\text{,}$ we denote the set of all linear functionals on $V$ by $V^*=\\mathcal{L}(V,\\R)\\text{,}$ and call this the *dual space* of $V\\text{.}$\n",
    "\n",
    "We make the following observations:\n",
    "- If $\\dim V=n$ and $\\dim W=m\\text{,}$ then $\\mathcal{L}(V,W)$ is isomorphic to the space $M_{mn}$ of $m\\times n$ matrices, so it has dimension $mn\\text{.}$\n",
    "- Since $\\dim \\R=1\\text{,}$ if $V$ is finite-dimensional, then $V^*=\\mathcal{L}(V,\\R)$ has dimension $1n=n\\text{.}$\n",
    "- Since $\\dim V^*=\\dim V\\text{,}$ $V$ and $V^*$ are isomorphic.\n",
    "\n",
    "Here is a basic example that is intended as a guide to your intuition regarding dual spaces. Take $V = \\R^3\\text{.}$ Given any $v\\in V\\text{,}$ define a map $\\phi_{v}:V\\to \\R$ by $\\phi_{v}(w) = v\\dotp w$ (the usual dot product).\n",
    "\n",
    "One way to think about this: if we write $v\\in V$ as a column vector $\\bbm v_1\\\\v_2\\\\v_3\\ebm\\text{,}$ then we can identify $\\phi_{v}$ with $v^T\\text{,}$ where the action is via multiplication:\n",
    "$$\n",
    "\\phi_{v}(w) = \\bbm v_1\\amp v_2\\amp v_3\\ebm\\bbm w_1\\\\w_2\\\\w_3\\ebm = v_1w_1+v_2w_2+v_3w_3\\text{.}\n",
    "$$\n",
    "\n",
    "It turns out that this example can be generalized, but the definition of $\\phi_v$ involves the dot product, which is particular to $\\R^n\\text{.}$\n",
    "There is a generalization of the dot product, known as an inner product. (See Chapter 10 of Nicholson, for example.) On any inner product space, we can associate each vector $v\\in V$ to a linear functional $\\phi_v$ using the procedure above.\n",
    "\n",
    "Another way to work concretely with dual vectors (without the need for inner products) is to define things in terms of a basis.\n",
    "\n",
    "Given a basis $\\{v_1,v_2,\\ldots, v_n\\}$ of $V\\text{,}$ we define the corresponding **dual basis** $\\{\\phi_1,\\phi_2,\\ldots, \\phi_n\\}$ of $V^*$ by\n",
    "\n",
    "$$\n",
    "\\phi_i(v_j) = \\begin{cases} 1, \\amp \\text{ if } i=j\\\\ 0, \\amp \\text{ if } i\\neq j\\end{cases}\\text{.}\n",
    "$$\n",
    "\n",
    "Note that each $\\phi_j$ is well-defined, since any linear transformation can be defined by giving its values on a basis.\n",
    "\n",
    "For the standard basis on $\\R^n\\text{,}$ note that the corresponding dual basis functionals are given by\n",
    "$$\n",
    "\\phi_j(x_1,x_2,\\ldots, x_n) = x_j\\text{.}\n",
    "$$\n",
    "\n",
    "That is, these are the *coordinate functions* on $\\R^n\\text{.}$"
   ]
  },
  {
   "cell_type": "markdown",
   "metadata": {},
   "source": [
    "\n",
    "## 1.\n",
    "\n",
    "Show that the dual basis is indeed a basis for $V^*\\text{.}$"
   ]
  },
  {
   "cell_type": "markdown",
   "metadata": {},
   "source": [
    "Next, let $V$ and $W$ be vector spaces, and let $T:V\\to W$ be a linear transformation. For any such $T\\text{,}$ we can define the *dual map* $T^*:W^*\\to V^*$ by $T^*(\\phi) = \\phi\\circ T$ for each $\\phi\\in W^*\\text{.}$"
   ]
  },
  {
   "cell_type": "markdown",
   "metadata": {},
   "source": [
    "## 2.\n",
    "Confirm that (a) $T^*(\\phi)$ does indeed define an element of $V^*\\text{;}$ that is, a linear map from $V$ to $\\R\\text{,}$ and (b) that $T^*$ is linear."
   ]
  },
  {
   "cell_type": "markdown",
   "metadata": {},
   "source": [
    "## 3.\n",
    "Let $V=P(\\R)$ be the space of all polynomials, and let $D:V\\to V$ be the derivative transformation $D(p(x))=p'(x)\\text{.}$ Let $\\phi:V\\to \\R$ be the linear functional defined by $\\phi(p(x)) = \\int_0^1 p(x)\\,dx\\text{.}$\n",
    "\n",
    "What is the linear functional $D^*(\\phi)\\text{?}$"
   ]
  },
  {
   "cell_type": "markdown",
   "metadata": {},
   "source": [
    "## 4.\n",
    "Show that dual maps satisfy the following properties: for any $S,T\\in \\mathcal{L}(V,W)$ and $k\\in \\R\\text{,}$\n",
    "\n",
    "1. $\\displaystyle (S+T)^* = S^*+T^*$\n",
    "2. $\\displaystyle (kS)^* = kS^*$\n",
    "3. $\\displaystyle (ST)^* = T^*S^*$\n",
    "\n",
    "In part 3, assume $S\\in \\mathcal{L}(V,W)$ and $T\\in \\mathcal{L}(U,V)\\text{.}$ (Reminder: the notation $ST$ is sometimes referred to as the “product” of $S$ and $T\\text{,}$ in analogy with matrices, but actually represents the composition $S\\circ T\\text{.}$)"
   ]
  },
  {
   "cell_type": "markdown",
   "metadata": {},
   "source": [
    "We have one topic remaining in relation to dual spaces: determining the kernel and image of a dual map $T^*$ (in terms of the kernel and image of $T$). Let $V$ be a vector space, and let $U$ be a subspace of $V\\text{.}$ Any such subspace determines an important subspace of $V^*\\text{:}$ the **annihilator** of $U\\text{,}$ denoted by $U^0$ and defined by\n",
    "$$\n",
    "U^0 = \\{\\phi\\in V^* \\,|\\, \\phi(u)=0 \\text{ for all } u\\in U\\}\\text{.}\n",
    "$$\n"
   ]
  },
  {
   "cell_type": "markdown",
   "metadata": {},
   "source": [
    "## 5.\n",
    "Determine a basis (in terms of the standard dual basis for $(\\R^4)^*$) for the annihilator $U^0$ of the subspace $U\\subseteq \\R^4$ given by\n",
    "$$\n",
    "U = \\{(2a+b,3b,a,a-2b)\\,|\\, a,b\\in\\R\\}\\text{.}\n",
    "$$\n",
    "\n",
    "Hint: Write $\\phi = c_1\\phi_1+c_2\\phi_2+c_3\\phi_3+c_4\\phi_4\\text{,}$ and note that each $\\phi_j$ simply gives the $j$th component of a vector in $\\R^4\\text{.}$"
   ]
  },
  {
   "cell_type": "markdown",
   "metadata": {},
   "source": [
    "Here is a fun theorem about annihilators that I won't ask you to prove.\n",
    "\n",
    "### Theorem. \n",
    "Let $V$ be a finite dimensional vector space. For any subspace $U$ of $V\\text{,}$\n",
    "$$\n",
    "\\dim U + \\dim U^0 = \\dim V\\text{.}\n",
    "$$\n",
    "\n",
    "Here's an outline of the proof. For any subspace $U\\subseteq V\\text{,}$ we can define the *inclusion* map $i:U\\to V\\text{,}$ given by $i(u)=u\\text{.}$ (This is not the identity on $V$ since it's only defined on $U\\text{.}$ In particular, it is not onto unless $U=V\\text{,}$ although it is clearly one-to-one.)\n",
    "\n",
    "Then $i^*$ is a map from $V^*$ to $U^*\\text{.}$ Moreover, note that for any $\\phi\\in V^*\\text{,}$ $i^*(\\phi)\\in U^*$ satisfies, for any $u\\in U\\text{,}$\n",
    "$$\n",
    "i^*(\\phi)(u) = \\phi(i(u))=\\phi(u)\\text{.}\n",
    "$$\n",
    "\n",
    "Thus, $\\phi\\in \\ker i^*$ if and only if $i^*(\\phi)=0\\text{,}$ which is if and only if $\\phi(u)=0$ for all $u\\in U\\text{,}$ which is if and only if $\\phi\\in U^0\\text{.}$ Therefore, $\\ker i^* = U^0\\text{.}$\n",
    "\n",
    "By the dimension theorem, we have:\n",
    "$$\n",
    "\\dim V^* = \\dim \\ker i^* + \\dim \\operatorname{im} i^*\\text{.}\n",
    "$$\n",
    "\n",
    "With a bit of work, one can show that $\\operatorname{im} i^* = U^*\\text{,}$ and we get the result from the fact that $\\dim V^*=\\dim V$ and $\\dim U^* = \\dim U\\text{.}$\n",
    "\n",
    "There are a number of interesting results of this flavour. For example, one can show that a map $T$ is injective if and only if $T^*$ is surjective, and vice-versa.\n",
    "\n",
    "One final, optional task: return to the example of $\\R^n\\text{,}$ viewed as column vectors, and consider a matrix transformation $T_A:\\R^n\\to \\R^m$ given by $T_A(\\vec{x}) = A\\vec{x}$ as usual. Viewing $(\\R^n)^*$ as row vectors, convince yourself that $(T_A)^* = T_{A^T}\\text{;}$ that is, that what we've really been talking about all along is just the transpose of a matrix!"
   ]
  }
 ],
 "metadata": {
  "kernelspec": {
   "display_name": "Python 3 (ipykernel)",
   "language": "python",
   "name": "python3"
  },
  "language_info": {
   "codemirror_mode": {
    "name": "ipython",
    "version": 3
   },
   "file_extension": ".py",
   "mimetype": "text/x-python",
   "name": "python",
   "nbconvert_exporter": "python",
   "pygments_lexer": "ipython3",
   "version": "3.11.6"
  },
  "name": "worksheet-dual-basis.ipynb"
 },
 "nbformat": 4,
 "nbformat_minor": 4
}
