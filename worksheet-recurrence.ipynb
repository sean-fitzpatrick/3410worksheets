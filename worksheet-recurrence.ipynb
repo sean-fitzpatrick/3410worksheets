{
 "cells": [
  {
   "cell_type": "markdown",
   "metadata": {},
   "source": [
    "# Worksheet: Linear recurrences\n",
    "$\\newcommand{\\spn}{\\operatorname{span}}\n",
    "\\newcommand{\\bbm}{\\begin{bmatrix}}\n",
    "\\newcommand{\\ebm}{\\end{bmatrix}}\n",
    "\\newcommand{\\R}{\\mathbb{R}}\n",
    "\\newcommand{\\im}{\\operatorname{im}}\n",
    "\\newcommand{\\nll}{\\operatorname{null}}\n",
    "\\newcommand{\\csp}{\\operatorname{col}}\n",
    "\\newcommand{\\rank}{\\operatorname{rank}}\n",
    "\\newcommand{\\diag}{\\operatorname{diag}}\n",
    "\\newcommand{\\tr}{\\operatorname{tr}}\n",
    "\\newcommand{\\dotp}{\\!\\boldsymbol{\\cdot}\\!}\n",
    "\\newcommand{\\len}[1]{\\lVert #1\\rVert}\n",
    "\\newcommand{\\abs}[1]{\\lvert #1\\rvert}\n",
    "\\newcommand{\\proj}[2]{\\operatorname{proj}_{#1}{#2}}\n",
    "\\newcommand{\\bz}{\\overline{z}}\n",
    "\\newcommand{\\zz}{\\mathbf{z}}\n",
    "\\newcommand{\\uu}{\\mathbf{u}}\n",
    "\\newcommand{\\vv}{\\mathbf{v}}\n",
    "\\newcommand{\\ww}{\\mathbf{w}}\n",
    "\\newcommand{\\xx}{\\mathbf{x}}\n",
    "\\newcommand{\\yy}{\\mathbf{y}}\n",
    "\\newcommand{\\zer}{\\mathbf{0}}\n",
    "\\newcommand{\\vecq}{\\mathbf{q}}\n",
    "\\newcommand{\\vecp}{\\mathbf{p}}\n",
    "\\newcommand{\\vece}{\\mathbf{e}}\n",
    "\\newcommand{\\basis}[2]{\\{\\mathbf{#1}_1,\\mathbf{#1}_2,\\ldots,\\mathbf{#1}_{#2}\\}}\n",
    "\\newcommand{\\amp}{&}\n",
    "$"
   ]
  },
  {
   "cell_type": "markdown",
   "metadata": {},
   "source": [
    "For this worksheet, the reader is directed to Section 7.5 of *Linear Algebra with Applications*, by Keith Nicholson. You will probably want to read this section before proceeding.\n",
    "\n",
    "A *linear recurrence* of length $k$ is a sequence $[x_n)$ that is recursively defined, with successive terms in the sequence defined in terms of the previous $k$ terms, via a linear recursion formula of the form\n",
    "$$\n",
    "x_{n+k} = a_0x_k + a_1x_{k+1}+\\cdots + a_{k-1}x_{n+k-1}\\text{.}\n",
    "$$\n",
    "(Here we assume $a_0\\neq 0$ to have the appropriate length.) \n",
    "\n",
    "The most famous example of a linear recurrence is, of course, the Fibonacci sequence, which is defined by $x_0=1, x_1=1\\text{,}$ and $x_{n+2}=x_n+x_{n+1}$ for all $n\\geq 0\\text{.}$\n",
    "\n",
    "As demonstrated in the Nicholson's book, the set of all sequences satisfying a linear recursion of length $k$ form a subspace $V$ of the vector space $\\mathbb{R}^\\infty$ of all real-valued sequences. Since each sequence is determined by the $k$ initial conditions $x_0, x_1, \\ldots, x_{k-1}\\text{,}$ we see that $V$ is isomorphic to $\\mathbb{R}^k\\text{.}$\n",
    "\n",
    "The goal of this worksheeet is to understand how to obtain *closed form* expressions for a recursively defined sequence using linear algebra. That is, rather than having to generate terms of the sequence one-by-one using the recursion formula, we want a function of $n$ that will produce each term $x_n$ in the sequence.\n",
    "\n",
    "Since we know the dimension of the space $V$ of solutions, it suffices to understand two things:\n",
    "\n",
    "- How to produce a basis for $V\\text{.}$\n",
    "- How to write a given solution in terms of that basis.\n",
    "\n",
    "The key observation is that for each recursion relation, there is an associated polynomial. For the recursion\n",
    "$$\n",
    "x_{n+k} = a_0x_n + a_1x_{n+1}+\\cdots + a_{k-1}x_{n+k-1}\\text{,}\n",
    "$$\n",
    "\n",
    "the associated polynomial is\n",
    "$$\n",
    "p(x) = x^k - a_{k-1}x^{k-1}-\\cdots -a_1x-a_0\\text{.}\n",
    "$$\n",
    "\n",
    "The main result is Theorem 7.5.4 in Nicholson. If we can factor $p(x)$ completely over the reals as\n",
    "$$\n",
    "p(x) = (x-\\lambda_1)^{m_1}(x-\\lambda_2)^{m_2}\\cdots (x-\\lambda_p)^{m_p}\\text{,}\n",
    "$$\n",
    "then a basis for the space of solutions is given by\n",
    "$$\\begin{aligned}\n",
    "\\left[\\lambda_1^n\\right), \\amp \\left[n\\lambda_1^n\\right),\\ldots, \\left[n^{m_1-1}\\lambda_1^n\\right)\\\\\n",
    "\\left[\\lambda_2^n\\right), \\amp \\left[n\\lambda_2^n\\right),\\ldots, \\left[n^{m_2-1}\\lambda_2^n\\right)\\\\\n",
    "\\amp \\vdots \\\\\n",
    "\\left[\\lambda_p^n\\right), \\amp \\left[n\\lambda_p^n\\right),\\ldots, \\left[n^{m_p-1}\\lambda_p^n\\right)\\text{.}\n",
    "\\end{aligned}\n",
    "$$\n",
    "\n",
    "Once we have a basis, we can apply the given coefficients to determine how to write a particular sequence as a linear combination of the basis vectors."
   ]
  },
  {
   "cell_type": "markdown",
   "metadata": {},
   "source": [
    "### Problem 1\n",
    "Find a basis for the space $V$ of sequences $[x_n)$ satisfying the recurrence</p>\n",
    "$$\n",
    "x_{n+3}=-2x_n+x_{n+1}+2x_{n+2}\\text{.}\n",
    "$$\n",
    "Then find a formula for the sequence satisfying the initial conditions $x_0=3, x_1=-2, x_2=4\\text{.}$"
   ]
  },
  {
   "cell_type": "markdown",
   "metadata": {},
   "source": [
    "To solve this problem, you may use Python code, as outlined below. To get started, load the functions you'll need from the SymPy library."
   ]
  },
  {
   "cell_type": "code",
   "execution_count": null,
   "metadata": {},
   "outputs": [],
   "source": [
    "from sympy import symbols,factor,init_printing\n",
    "x = symbols('x')\n",
    "init_printing()"
   ]
  },
  {
   "cell_type": "markdown",
   "metadata": {},
   "source": [
    "First, determine the associated polynomial for the recurrence."
   ]
  },
  {
   "cell_type": "markdown",
   "metadata": {},
   "source": [
    "(Input your polynomial in the cell below. To get proper formatting, wrap your math in `$` delimiters, and use `^` to enter exponents.)"
   ]
  },
  {
   "cell_type": "markdown",
   "metadata": {},
   "source": [
    "empty text cell -- double-click to edit"
   ]
  },
  {
   "cell_type": "markdown",
   "metadata": {},
   "source": [
    "Next, factor the polynomial. You can do this using the `factor()` command. In Python, you will need to enter `**` for the exponents."
   ]
  },
  {
   "cell_type": "code",
   "execution_count": null,
   "metadata": {},
   "outputs": [],
   "source": []
  },
  {
   "cell_type": "markdown",
   "metadata": {},
   "source": [
    "In the cell below, list the roots of the polynomial, and the resulting basis $B$ for the space $V$ of solutions. Recall that if $\\lambda$ is a root of the polynomial, then $[\\lambda^n)$ will be a basis vector for the vector space $V$ of solutions. You may wish to confirm that each of your basis sequences indeed satisfies our recursion."
   ]
  },
  {
   "cell_type": "code",
   "execution_count": null,
   "metadata": {},
   "outputs": [],
   "source": [
    "'''\n",
    "this is a code cell: delete the contents. \n",
    "If you want to enter your results as text,\n",
    "look for the drop-down in the toolbar,\n",
    "and change from \"Code\" to \"Markdown\"\n",
    "'''"
   ]
  },
  {
   "cell_type": "markdown",
   "metadata": {},
   "source": [
    "Next, let $s=[x_n)$ be the recursion that satisfies the given initial conditions. We want to write $[x_n)$ in terms of the basis we just found. Recall, from Nicholson, that since our basis has three elements, there is an isomorphism $T:\\R^3\\to V\\text{,}$ where $T(a,b,c)$ is equal to the sequence $[x_n)$ in $V$ that satisfies the initial conditions $x_0=a, x_1=b, x_2=c\\text{.}$ Thus, our desired sequence is given by $s=T(1,2,1)\\text{.}$"
   ]
  },
  {
   "cell_type": "markdown",
   "metadata": {},
   "source": [
    "Let $\\vv_1, \\vv_2, \\vv_3\\in\\R^3$ be the vectors such that $B=\\{T(\\vv_1), T(\\vv_2), T(\\vv_3)\\}\\text{.}$ (That is, write out the first three terms in each sequence in your basis to get three vectors.) We then need to find scalars $c_1,c_2,c_3$ such that\n",
    "$$\n",
    "c_1\\vv_1+c_2\\vv_2+c_3\\vv_3=(1,2,1)\\text{.}\n",
    "$$\n",
    "\n",
    "We will then have\n",
    "$$\n",
    "\\begin{aligned}\n",
    "s \\amp = T(1,2,1)\\\\\n",
    "\\amp = c_1T(\\vv_1)+c_2T(\\vv_2)+c_3T(\\vv_3)\\text{,}\n",
    "\\end{aligned}\n",
    "$$\n",
    "and we recall that the sequences $T(\\vv_i)$ are the sequences in our basis $B\\text{.}$"
   ]
  },
  {
   "cell_type": "markdown",
   "metadata": {},
   "source": [
    "Set up this system, and then use the computer to solve. Let `A` be the coefficient matrix for the system, which you will need to input into the cell below, and let `B` be the column vector containing the initial conditions."
   ]
  },
  {
   "cell_type": "code",
   "execution_count": null,
   "metadata": {},
   "outputs": [],
   "source": [
    "from sympy import Matrix\n",
    "A = Matrix()\n",
    "B = Matrix([1,2,1])\n",
    "X = A**(-1)*B\n",
    "X"
   ]
  },
  {
   "cell_type": "markdown",
   "metadata": {},
   "source": [
    "Using the solution above, state the answer to this exercise."
   ]
  },
  {
   "cell_type": "markdown",
   "metadata": {},
   "source": [
    "this is a text cell -- double click to edit"
   ]
  },
  {
   "cell_type": "markdown",
   "metadata": {},
   "source": [
    "Now, we leave you with a few more exercises. Recall that if the associated polynomial for your recursion has a repeated root $(x-\\lambda)^k\\text{,}$ then your basis will include the sequences $[\\lambda^n), [n\\lambda^n), \\ldots, [n^{k-1}\\lambda^n)\\text{.}$"
   ]
  },
  {
   "cell_type": "markdown",
   "metadata": {},
   "source": [
    "### Problem 2\n",
    "Find a basis for the space $V$ of sequences $[x_n)$ satisfying the recurrence\n",
    "$$\n",
    "x_{n+3} = 8x_n-12x_{n+1}+6x_{n+2}\\text{.}\n",
    "$$\n",
    "\n",
    "Then find a formula for the sequence satisfying the initial conditions $x_0=2, x_1=-5, x_2=3\\text{.}$"
   ]
  },
  {
   "cell_type": "code",
   "execution_count": null,
   "metadata": {},
   "outputs": [],
   "source": []
  },
  {
   "cell_type": "markdown",
   "metadata": {},
   "source": [
    "### Problem 3\n",
    "Find a basis for the space $V$ of sequences $[x_n)$ satisfying the recurrence\n",
    "$$\n",
    "x_{n+6} = 72x_n+12x_{n+1}-70x_{n+2}+5x_{n+3}+15x_{n+4}-x_{n+5}\\text{.}\n",
    "$$\n",
    "Then find a formula for the sequence satisfying the initial conditions $x_0=1, x_1=-2, x_2=1, x_3=2, x_4=-3, x_5=4\\text{.}$"
   ]
  },
  {
   "cell_type": "code",
   "execution_count": null,
   "metadata": {},
   "outputs": [],
   "source": []
  }
 ],
 "metadata": {
  "kernelspec": {
   "display_name": "Python 3 (ipykernel)",
   "language": "python",
   "name": "python3"
  },
  "language_info": {
   "codemirror_mode": {
    "name": "ipython",
    "version": 3
   },
   "file_extension": ".py",
   "mimetype": "text/x-python",
   "name": "python",
   "nbconvert_exporter": "python",
   "pygments_lexer": "ipython3",
   "version": "3.11.6"
  },
  "name": "worksheet-recurrence.ipynb"
 },
 "nbformat": 4,
 "nbformat_minor": 4
}
